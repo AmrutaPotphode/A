{
  "nbformat": 4,
  "nbformat_minor": 0,
  "metadata": {
    "colab": {
      "provenance": [],
      "include_colab_link": true
    },
    "kernelspec": {
      "name": "python3",
      "display_name": "Python 3"
    },
    "language_info": {
      "name": "python"
    }
  },
  "cells": [
    {
      "cell_type": "markdown",
      "metadata": {
        "id": "view-in-github",
        "colab_type": "text"
      },
      "source": [
        "<a href=\"https://colab.research.google.com/github/AmrutaPotphode/A/blob/main/File.ipynb\" target=\"_parent\"><img src=\"https://colab.research.google.com/assets/colab-badge.svg\" alt=\"Open In Colab\"/></a>"
      ]
    },
    {
      "cell_type": "code",
      "execution_count": null,
      "metadata": {
        "id": "eRWQoZ6zuKsj"
      },
      "outputs": [],
      "source": [
        "import numpy as np"
      ]
    },
    {
      "cell_type": "code",
      "source": [
        "arr=np.array([2,4,6,8,10,12])\n",
        "print(arr)\n",
        "print(type(arr))"
      ],
      "metadata": {
        "colab": {
          "base_uri": "https://localhost:8080/"
        },
        "id": "BIoRHBHMvPtF",
        "outputId": "7117f436-7430-434c-ff23-ca2943fe07be"
      },
      "execution_count": null,
      "outputs": [
        {
          "output_type": "stream",
          "name": "stdout",
          "text": [
            "[ 2  4  6  8 10 12]\n",
            "<class 'numpy.ndarray'>\n"
          ]
        }
      ]
    },
    {
      "cell_type": "code",
      "source": [
        "arr.ndim"
      ],
      "metadata": {
        "colab": {
          "base_uri": "https://localhost:8080/"
        },
        "id": "1nOFoBIgwTZf",
        "outputId": "17ecb23e-4bff-4cb1-8b65-1e2fde691bfa"
      },
      "execution_count": null,
      "outputs": [
        {
          "output_type": "execute_result",
          "data": {
            "text/plain": [
              "1"
            ]
          },
          "metadata": {},
          "execution_count": 3
        }
      ]
    },
    {
      "cell_type": "code",
      "source": [
        "arr.shape"
      ],
      "metadata": {
        "colab": {
          "base_uri": "https://localhost:8080/"
        },
        "id": "fdFYG41Pw3Vp",
        "outputId": "52bbba67-838f-4327-84cf-85a0c8510b5a"
      },
      "execution_count": null,
      "outputs": [
        {
          "output_type": "execute_result",
          "data": {
            "text/plain": [
              "(6,)"
            ]
          },
          "metadata": {},
          "execution_count": 4
        }
      ]
    },
    {
      "cell_type": "code",
      "source": [
        "arr=np.array([2,4,6,8,10,12])\n",
        "print(arr)\n",
        "print(type(arr))"
      ],
      "metadata": {
        "colab": {
          "base_uri": "https://localhost:8080/"
        },
        "id": "jg3sAsFVw6hn",
        "outputId": "d1d24a0a-b5d7-4225-ed3d-605d4e943788"
      },
      "execution_count": null,
      "outputs": [
        {
          "output_type": "stream",
          "name": "stdout",
          "text": [
            "[[ 2  4  6  8 10 12]]\n",
            "<class 'numpy.ndarray'>\n"
          ]
        }
      ]
    },
    {
      "cell_type": "code",
      "source": [
        "arr.ndim"
      ],
      "metadata": {
        "colab": {
          "base_uri": "https://localhost:8080/"
        },
        "id": "wZYPQd9cxX7r",
        "outputId": "61ced5a1-a521-4113-8830-f6a8f888ace9"
      },
      "execution_count": null,
      "outputs": [
        {
          "output_type": "execute_result",
          "data": {
            "text/plain": [
              "2"
            ]
          },
          "metadata": {},
          "execution_count": 6
        }
      ]
    },
    {
      "cell_type": "code",
      "source": [
        "arr.shape"
      ],
      "metadata": {
        "colab": {
          "base_uri": "https://localhost:8080/"
        },
        "id": "th7ptzEIxfZz",
        "outputId": "bed06621-de1a-429b-e736-bc8aa7827ca9"
      },
      "execution_count": null,
      "outputs": [
        {
          "output_type": "execute_result",
          "data": {
            "text/plain": [
              "(1, 6)"
            ]
          },
          "metadata": {},
          "execution_count": 7
        }
      ]
    },
    {
      "cell_type": "code",
      "source": [
        "zero_dim=np.array(42)\n"
      ],
      "metadata": {
        "id": "Otqr6VUsx7Vf"
      },
      "execution_count": null,
      "outputs": []
    },
    {
      "cell_type": "code",
      "source": [
        "two_d=np.array([[1,3,5],[9,7,5]])"
      ],
      "metadata": {
        "id": "wxovy_DQy96q"
      },
      "execution_count": null,
      "outputs": []
    },
    {
      "cell_type": "code",
      "source": [
        "arr.shape"
      ],
      "metadata": {
        "colab": {
          "base_uri": "https://localhost:8080/"
        },
        "id": "HUaeMeLX0YgY",
        "outputId": "9be2f5d5-20d8-494f-ce9c-16025d2bad9c"
      },
      "execution_count": null,
      "outputs": [
        {
          "output_type": "execute_result",
          "data": {
            "text/plain": [
              "(1, 6)"
            ]
          },
          "metadata": {},
          "execution_count": 11
        }
      ]
    },
    {
      "cell_type": "code",
      "source": [
        "print(two_d,'Dimension=',two_d.ndim)"
      ],
      "metadata": {
        "colab": {
          "base_uri": "https://localhost:8080/"
        },
        "id": "eevG4v5r0cPt",
        "outputId": "f5d6d414-44a4-44af-854c-52f31ad08819"
      },
      "execution_count": null,
      "outputs": [
        {
          "output_type": "stream",
          "name": "stdout",
          "text": [
            "[[1 3 5]\n",
            " [9 7 5]] Dimension= 2\n"
          ]
        }
      ]
    },
    {
      "cell_type": "code",
      "source": [
        "print(arr[0])"
      ],
      "metadata": {
        "colab": {
          "base_uri": "https://localhost:8080/"
        },
        "id": "WWlpLiwo0m5n",
        "outputId": "5fc95008-d9bc-4ad3-f467-ed7866392f8f"
      },
      "execution_count": null,
      "outputs": [
        {
          "output_type": "stream",
          "name": "stdout",
          "text": [
            "[ 2  4  6  8 10 12]\n"
          ]
        }
      ]
    },
    {
      "cell_type": "code",
      "source": [
        "print(arr[0]+arr[2])"
      ],
      "metadata": {
        "colab": {
          "base_uri": "https://localhost:8080/",
          "height": 168
        },
        "id": "27lm2vcp0sSg",
        "outputId": "8dc553f4-2534-4eae-fdb0-103daf96da9e"
      },
      "execution_count": 1,
      "outputs": [
        {
          "output_type": "error",
          "ename": "NameError",
          "evalue": "ignored",
          "traceback": [
            "\u001b[0;31m---------------------------------------------------------------------------\u001b[0m",
            "\u001b[0;31mNameError\u001b[0m                                 Traceback (most recent call last)",
            "\u001b[0;32m<ipython-input-1-4fea7fa22b7c>\u001b[0m in \u001b[0;36m<cell line: 1>\u001b[0;34m()\u001b[0m\n\u001b[0;32m----> 1\u001b[0;31m \u001b[0mprint\u001b[0m\u001b[0;34m(\u001b[0m\u001b[0marr\u001b[0m\u001b[0;34m[\u001b[0m\u001b[0;36m0\u001b[0m\u001b[0;34m]\u001b[0m\u001b[0;34m+\u001b[0m\u001b[0marr\u001b[0m\u001b[0;34m[\u001b[0m\u001b[0;36m2\u001b[0m\u001b[0;34m]\u001b[0m\u001b[0;34m)\u001b[0m\u001b[0;34m\u001b[0m\u001b[0;34m\u001b[0m\u001b[0m\n\u001b[0m",
            "\u001b[0;31mNameError\u001b[0m: name 'arr' is not defined"
          ]
        }
      ]
    },
    {
      "cell_type": "code",
      "source": [
        "print(arr[2]+arr[5])"
      ],
      "metadata": {
        "colab": {
          "base_uri": "https://localhost:8080/",
          "height": 167
        },
        "id": "Ubvwwh9r1RlU",
        "outputId": "e6a503ac-23e3-4ea2-ae73-0edfb70463a8"
      },
      "execution_count": null,
      "outputs": [
        {
          "output_type": "error",
          "ename": "IndexError",
          "evalue": "ignored",
          "traceback": [
            "\u001b[0;31m---------------------------------------------------------------------------\u001b[0m",
            "\u001b[0;31mIndexError\u001b[0m                                Traceback (most recent call last)",
            "\u001b[0;32m<ipython-input-16-da218d17a1c6>\u001b[0m in \u001b[0;36m<cell line: 1>\u001b[0;34m()\u001b[0m\n\u001b[0;32m----> 1\u001b[0;31m \u001b[0mprint\u001b[0m\u001b[0;34m(\u001b[0m\u001b[0marr\u001b[0m\u001b[0;34m[\u001b[0m\u001b[0;36m2\u001b[0m\u001b[0;34m]\u001b[0m\u001b[0;34m+\u001b[0m\u001b[0marr\u001b[0m\u001b[0;34m[\u001b[0m\u001b[0;36m5\u001b[0m\u001b[0;34m]\u001b[0m\u001b[0;34m)\u001b[0m\u001b[0;34m\u001b[0m\u001b[0;34m\u001b[0m\u001b[0m\n\u001b[0m",
            "\u001b[0;31mIndexError\u001b[0m: index 2 is out of bounds for axis 0 with size 1"
          ]
        }
      ]
    },
    {
      "cell_type": "code",
      "source": [
        "two_d[0,-1]"
      ],
      "metadata": {
        "colab": {
          "base_uri": "https://localhost:8080/"
        },
        "id": "ulZsEkVa1c73",
        "outputId": "90092cdb-71b4-4cd6-a014-1bf22c0ee56c"
      },
      "execution_count": null,
      "outputs": [
        {
          "output_type": "execute_result",
          "data": {
            "text/plain": [
              "5"
            ]
          },
          "metadata": {},
          "execution_count": 17
        }
      ]
    },
    {
      "cell_type": "code",
      "source": [
        "ar=np.array([2,4,6,8,19])\n",
        "print(ar.dtype)"
      ],
      "metadata": {
        "colab": {
          "base_uri": "https://localhost:8080/"
        },
        "id": "O67ht6692fky",
        "outputId": "bf1127b0-4916-418d-8c35-9203396c9eba"
      },
      "execution_count": null,
      "outputs": [
        {
          "output_type": "stream",
          "name": "stdout",
          "text": [
            "int64\n"
          ]
        }
      ]
    },
    {
      "cell_type": "code",
      "source": [
        "two_d[1,0]"
      ],
      "metadata": {
        "colab": {
          "base_uri": "https://localhost:8080/"
        },
        "id": "bjA4uDtv18uF",
        "outputId": "e5e5ea6b-7f1e-4f1d-c124-4ca05e50745b"
      },
      "execution_count": null,
      "outputs": [
        {
          "output_type": "execute_result",
          "data": {
            "text/plain": [
              "9"
            ]
          },
          "metadata": {},
          "execution_count": 19
        }
      ]
    },
    {
      "cell_type": "code",
      "source": [
        "even=np.arange(0,101,2)\n",
        "print(even)"
      ],
      "metadata": {
        "colab": {
          "base_uri": "https://localhost:8080/"
        },
        "id": "eAsJclq82pmi",
        "outputId": "d336ec0b-2d6f-4cc2-ee71-b37f60d88adf"
      },
      "execution_count": null,
      "outputs": [
        {
          "output_type": "stream",
          "name": "stdout",
          "text": [
            "[  0   2   4   6   8  10  12  14  16  18  20  22  24  26  28  30  32  34\n",
            "  36  38  40  42  44  46  48  50  52  54  56  58  60  62  64  66  68  70\n",
            "  72  74  76  78  80  82  84  86  88  90  92  94  96  98 100]\n"
          ]
        }
      ]
    },
    {
      "cell_type": "code",
      "source": [
        "a=np.arange(100)\n",
        "print(a)"
      ],
      "metadata": {
        "colab": {
          "base_uri": "https://localhost:8080/"
        },
        "id": "QhFCc7yi31-q",
        "outputId": "a8936ab2-f949-4efc-94e6-c03ac269e185"
      },
      "execution_count": null,
      "outputs": [
        {
          "output_type": "stream",
          "name": "stdout",
          "text": [
            "[ 0  1  2  3  4  5  6  7  8  9 10 11 12 13 14 15 16 17 18 19 20 21 22 23\n",
            " 24 25 26 27 28 29 30 31 32 33 34 35 36 37 38 39 40 41 42 43 44 45 46 47\n",
            " 48 49 50 51 52 53 54 55 56 57 58 59 60 61 62 63 64 65 66 67 68 69 70 71\n",
            " 72 73 74 75 76 77 78 79 80 81 82 83 84 85 86 87 88 89 90 91 92 93 94 95\n",
            " 96 97 98 99]\n"
          ]
        }
      ]
    },
    {
      "cell_type": "code",
      "source": [
        "a.shape"
      ],
      "metadata": {
        "colab": {
          "base_uri": "https://localhost:8080/"
        },
        "id": "TjW3Fx194ZwO",
        "outputId": "3902391d-a560-458f-989d-70b7d2bb8c5d"
      },
      "execution_count": null,
      "outputs": [
        {
          "output_type": "execute_result",
          "data": {
            "text/plain": [
              "(100,)"
            ]
          },
          "metadata": {},
          "execution_count": 24
        }
      ]
    },
    {
      "cell_type": "code",
      "source": [
        "a=np.arange(100).reshape(10,10)\n",
        "print(a)"
      ],
      "metadata": {
        "colab": {
          "base_uri": "https://localhost:8080/"
        },
        "id": "hOIPX7Xl4p_E",
        "outputId": "09a67d54-06c0-46a9-fea7-35f2c481ea53"
      },
      "execution_count": null,
      "outputs": [
        {
          "output_type": "stream",
          "name": "stdout",
          "text": [
            "[[ 0  1  2  3  4  5  6  7  8  9]\n",
            " [10 11 12 13 14 15 16 17 18 19]\n",
            " [20 21 22 23 24 25 26 27 28 29]\n",
            " [30 31 32 33 34 35 36 37 38 39]\n",
            " [40 41 42 43 44 45 46 47 48 49]\n",
            " [50 51 52 53 54 55 56 57 58 59]\n",
            " [60 61 62 63 64 65 66 67 68 69]\n",
            " [70 71 72 73 74 75 76 77 78 79]\n",
            " [80 81 82 83 84 85 86 87 88 89]\n",
            " [90 91 92 93 94 95 96 97 98 99]]\n"
          ]
        }
      ]
    },
    {
      "cell_type": "code",
      "source": [
        "a.shape"
      ],
      "metadata": {
        "colab": {
          "base_uri": "https://localhost:8080/"
        },
        "id": "wRs4QB1T5Ill",
        "outputId": "82e92f7f-d27a-40e0-9b7e-0fc50f25cffd"
      },
      "execution_count": null,
      "outputs": [
        {
          "output_type": "execute_result",
          "data": {
            "text/plain": [
              "(10, 10)"
            ]
          },
          "metadata": {},
          "execution_count": 26
        }
      ]
    },
    {
      "cell_type": "code",
      "source": [
        "a.mean(axis=1)"
      ],
      "metadata": {
        "colab": {
          "base_uri": "https://localhost:8080/"
        },
        "id": "7t6cx5ok5SH9",
        "outputId": "b5c40785-19ab-4735-9252-00bd479d594c"
      },
      "execution_count": null,
      "outputs": [
        {
          "output_type": "execute_result",
          "data": {
            "text/plain": [
              "array([ 4.5, 14.5, 24.5, 34.5, 44.5, 54.5, 64.5, 74.5, 84.5, 94.5])"
            ]
          },
          "metadata": {},
          "execution_count": 37
        }
      ]
    },
    {
      "cell_type": "code",
      "source": [
        "a.max(axis=1)"
      ],
      "metadata": {
        "colab": {
          "base_uri": "https://localhost:8080/"
        },
        "id": "nAg4Bjjq5W7y",
        "outputId": "a9f4362c-ea54-414b-8dc3-aeb7204adc89"
      },
      "execution_count": null,
      "outputs": [
        {
          "output_type": "execute_result",
          "data": {
            "text/plain": [
              "array([ 9, 19, 29, 39, 49, 59, 69, 79, 89, 99])"
            ]
          },
          "metadata": {},
          "execution_count": 38
        }
      ]
    },
    {
      "cell_type": "code",
      "source": [
        "a.min(axis=1)"
      ],
      "metadata": {
        "colab": {
          "base_uri": "https://localhost:8080/"
        },
        "id": "iKaiEwh85atD",
        "outputId": "8df857b1-6e85-4dd4-fa43-3cf5c4971dfb"
      },
      "execution_count": null,
      "outputs": [
        {
          "output_type": "execute_result",
          "data": {
            "text/plain": [
              "array([ 0, 10, 20, 30, 40, 50, 60, 70, 80, 90])"
            ]
          },
          "metadata": {},
          "execution_count": 39
        }
      ]
    },
    {
      "cell_type": "code",
      "source": [
        "a.sum(axis=1)"
      ],
      "metadata": {
        "colab": {
          "base_uri": "https://localhost:8080/"
        },
        "id": "lNmJqA4N5cu4",
        "outputId": "266909c8-3196-409b-ae2a-15c02616e943"
      },
      "execution_count": null,
      "outputs": [
        {
          "output_type": "execute_result",
          "data": {
            "text/plain": [
              "array([ 45, 145, 245, 345, 445, 545, 645, 745, 845, 945])"
            ]
          },
          "metadata": {},
          "execution_count": 40
        }
      ]
    },
    {
      "cell_type": "code",
      "source": [
        "a.mean([8,10])"
      ],
      "metadata": {
        "colab": {
          "base_uri": "https://localhost:8080/",
          "height": 168
        },
        "id": "ytX9jZAW7Up3",
        "outputId": "132a59dd-01b2-4bce-989c-28e17cbfb677"
      },
      "execution_count": 6,
      "outputs": [
        {
          "output_type": "error",
          "ename": "NameError",
          "evalue": "ignored",
          "traceback": [
            "\u001b[0;31m---------------------------------------------------------------------------\u001b[0m",
            "\u001b[0;31mNameError\u001b[0m                                 Traceback (most recent call last)",
            "\u001b[0;32m<ipython-input-6-556357b5a607>\u001b[0m in \u001b[0;36m<cell line: 1>\u001b[0;34m()\u001b[0m\n\u001b[0;32m----> 1\u001b[0;31m \u001b[0ma\u001b[0m\u001b[0;34m.\u001b[0m\u001b[0mmean\u001b[0m\u001b[0;34m(\u001b[0m\u001b[0;34m[\u001b[0m\u001b[0;36m8\u001b[0m\u001b[0;34m,\u001b[0m\u001b[0;36m10\u001b[0m\u001b[0;34m]\u001b[0m\u001b[0;34m)\u001b[0m\u001b[0;34m\u001b[0m\u001b[0;34m\u001b[0m\u001b[0m\n\u001b[0m",
            "\u001b[0;31mNameError\u001b[0m: name 'a' is not defined"
          ]
        }
      ]
    },
    {
      "cell_type": "code",
      "source": [
        "b=[1,2,3]"
      ],
      "metadata": {
        "id": "W2WIvUVq7qyz"
      },
      "execution_count": null,
      "outputs": []
    },
    {
      "cell_type": "code",
      "source": [
        "b*3"
      ],
      "metadata": {
        "colab": {
          "base_uri": "https://localhost:8080/"
        },
        "id": "6Jg8QqKx7x28",
        "outputId": "f08251cf-c846-46e0-d1e0-db91badef6fa"
      },
      "execution_count": null,
      "outputs": [
        {
          "output_type": "execute_result",
          "data": {
            "text/plain": [
              "[1, 2, 3, 1, 2, 3, 1, 2, 3]"
            ]
          },
          "metadata": {},
          "execution_count": 46
        }
      ]
    },
    {
      "cell_type": "code",
      "source": [
        "b=np.array(b)"
      ],
      "metadata": {
        "id": "MIHT5V1X79J0"
      },
      "execution_count": null,
      "outputs": []
    },
    {
      "cell_type": "code",
      "source": [
        "b*3"
      ],
      "metadata": {
        "colab": {
          "base_uri": "https://localhost:8080/"
        },
        "id": "khvep1iT8CHB",
        "outputId": "4df3bd63-734d-4e9f-c5b0-b35917c6658f"
      },
      "execution_count": null,
      "outputs": [
        {
          "output_type": "execute_result",
          "data": {
            "text/plain": [
              "array([3, 6, 9])"
            ]
          },
          "metadata": {},
          "execution_count": 48
        }
      ]
    },
    {
      "cell_type": "code",
      "source": [
        "import random"
      ],
      "metadata": {
        "id": "aHQyyDET8RtX"
      },
      "execution_count": null,
      "outputs": []
    },
    {
      "cell_type": "code",
      "source": [
        "print(random.randint(15,100))"
      ],
      "metadata": {
        "colab": {
          "base_uri": "https://localhost:8080/"
        },
        "id": "CwnLoM0G8bfl",
        "outputId": "dfe65177-fdb8-4256-ff67-6f0828d34098"
      },
      "execution_count": null,
      "outputs": [
        {
          "output_type": "stream",
          "name": "stdout",
          "text": [
            "68\n"
          ]
        }
      ]
    },
    {
      "cell_type": "code",
      "source": [
        "seq=[]\n",
        "for i in range(100):\n",
        "  seq.append(random.randint(20,70))\n",
        "print(seq)"
      ],
      "metadata": {
        "colab": {
          "base_uri": "https://localhost:8080/"
        },
        "id": "INVuDe9L80jy",
        "outputId": "c55d6b59-f097-4384-8554-de57a33d4164"
      },
      "execution_count": null,
      "outputs": [
        {
          "output_type": "stream",
          "name": "stdout",
          "text": [
            "[38, 44, 22, 47, 26, 46, 49, 24, 49, 21, 44, 47, 40, 53, 30, 40, 43, 31, 65, 33, 38, 38, 59, 44, 68, 64, 36, 36, 60, 42, 42, 42, 47, 21, 21, 55, 42, 66, 36, 30, 45, 54, 38, 42, 20, 25, 44, 39, 48, 41, 36, 27, 28, 62, 40, 60, 66, 55, 30, 35, 43, 33, 57, 57, 38, 28, 68, 24, 66, 69, 24, 60, 51, 62, 50, 35, 36, 49, 32, 42, 64, 21, 49, 41, 70, 23, 46, 53, 58, 67, 44, 26, 54, 38, 54, 48, 43, 66, 61, 41]\n"
          ]
        }
      ]
    },
    {
      "cell_type": "code",
      "source": [
        "our_ar=np.array(seq)\n",
        "print(our_ar)"
      ],
      "metadata": {
        "colab": {
          "base_uri": "https://localhost:8080/"
        },
        "id": "jvBU770N9Oka",
        "outputId": "06bd581d-7c54-428e-c63b-1baff0867514"
      },
      "execution_count": null,
      "outputs": [
        {
          "output_type": "stream",
          "name": "stdout",
          "text": [
            "[38 44 22 47 26 46 49 24 49 21 44 47 40 53 30 40 43 31 65 33 38 38 59 44\n",
            " 68 64 36 36 60 42 42 42 47 21 21 55 42 66 36 30 45 54 38 42 20 25 44 39\n",
            " 48 41 36 27 28 62 40 60 66 55 30 35 43 33 57 57 38 28 68 24 66 69 24 60\n",
            " 51 62 50 35 36 49 32 42 64 21 49 41 70 23 46 53 58 67 44 26 54 38 54 48\n",
            " 43 66 61 41]\n"
          ]
        }
      ]
    },
    {
      "cell_type": "code",
      "source": [
        "our_ar.mean()"
      ],
      "metadata": {
        "colab": {
          "base_uri": "https://localhost:8080/"
        },
        "id": "oJU5jSSm9X-G",
        "outputId": "f8d01d14-9781-4058-ea06-aaa788ae72cb"
      },
      "execution_count": null,
      "outputs": [
        {
          "output_type": "execute_result",
          "data": {
            "text/plain": [
              "44.05"
            ]
          },
          "metadata": {},
          "execution_count": 56
        }
      ]
    },
    {
      "cell_type": "code",
      "source": [
        "sa=np.array([9,7,6])\n",
        "fa=np.array([1,2,3])\n",
        "print(np.concatenate)"
      ],
      "metadata": {
        "id": "eZxkN1_794DK"
      },
      "execution_count": null,
      "outputs": []
    },
    {
      "cell_type": "code",
      "source": [
        "imp"
      ],
      "metadata": {
        "id": "LzeTz7Mc-h0d"
      },
      "execution_count": null,
      "outputs": []
    },
    {
      "cell_type": "code",
      "source": [
        "l1=np.random.randn(100)"
      ],
      "metadata": {
        "id": "6rOjW61i-GAj"
      },
      "execution_count": null,
      "outputs": []
    },
    {
      "cell_type": "code",
      "source": [
        "print(l1)"
      ],
      "metadata": {
        "colab": {
          "base_uri": "https://localhost:8080/"
        },
        "id": "oVeD4sx3-TLj",
        "outputId": "735b93db-a15c-4542-b92d-cf2613d6742f"
      },
      "execution_count": null,
      "outputs": [
        {
          "output_type": "stream",
          "name": "stdout",
          "text": [
            "[-1.35940922e+00 -1.50154132e+00  4.26457020e-01  4.41911125e-01\n",
            "  1.00366763e+00 -1.87460710e+00  4.94464097e-01  5.36659779e-01\n",
            " -9.27772262e-01  1.67902350e-01  9.00033396e-01 -4.03761995e-01\n",
            " -1.06326627e+00  5.06750010e-01  6.82547738e-01 -8.20171581e-01\n",
            "  8.20077105e-02 -7.87879669e-01  1.01168167e+00 -1.36339767e+00\n",
            "  1.23719300e+00  1.10047188e+00 -1.28288702e+00  1.16508034e+00\n",
            "  9.15933761e-01 -2.16829267e+00  3.94556947e-01 -2.17265162e+00\n",
            "  1.53469833e+00 -2.08934692e-01  1.57319341e+00 -8.34706919e-03\n",
            " -7.00307765e-01 -3.02509410e-01 -1.48317203e+00 -7.89061993e-01\n",
            "  8.04121043e-01 -3.69189277e-01 -8.11257111e-01  2.91007039e-01\n",
            " -1.02348327e+00  4.38705453e-01 -3.42915926e-01  1.22486359e+00\n",
            "  5.77356618e-01  5.04592340e-01 -8.93949743e-01 -3.66309427e-01\n",
            " -9.41551601e-01  1.78958740e-01 -6.86609370e-01 -1.37733598e+00\n",
            " -2.35597772e+00  4.36438362e-01  9.12215667e-01  5.79061555e-01\n",
            "  1.21548874e+00 -8.68863095e-02  4.43129007e-01 -1.15306926e+00\n",
            "  1.55612195e+00 -1.42030940e+00  1.02737411e-01 -6.77736415e-01\n",
            " -6.52221962e-01  9.48746796e-02  7.13026819e-01 -3.88227819e-01\n",
            " -1.37072125e+00 -1.19233204e+00  4.85187604e-01  3.34310256e-02\n",
            "  1.44585344e+00 -1.27065622e+00  1.26080258e+00  1.71434268e+00\n",
            "  1.06069471e+00  1.50029232e+00 -2.86629920e-01 -1.93262302e+00\n",
            " -1.42208193e-01 -4.28518672e-03 -6.60854041e-01 -6.27884347e-01\n",
            "  4.87693340e-02 -1.04069643e-03  1.48152464e+00  5.15611640e-01\n",
            "  2.23326253e-01 -1.19239394e+00  1.45789627e+00  5.26952276e-01\n",
            "  5.20705564e-01 -1.69415875e+00  8.55651546e-01 -5.96161424e-01\n",
            "  1.12114882e+00 -1.94959762e-01 -5.23206976e-01  4.56185656e-01]\n"
          ]
        }
      ]
    },
    {
      "cell_type": "code",
      "source": [
        "import matplotlib.pyplot as plt"
      ],
      "metadata": {
        "id": "P60fOHje-kk_"
      },
      "execution_count": null,
      "outputs": []
    },
    {
      "cell_type": "code",
      "source": [
        "plt.plot(l1)"
      ],
      "metadata": {
        "colab": {
          "base_uri": "https://localhost:8080/",
          "height": 447
        },
        "id": "g0bj_yWr-swQ",
        "outputId": "4b476647-d65e-4c7e-ffc0-70a2e0c75a73"
      },
      "execution_count": null,
      "outputs": [
        {
          "output_type": "execute_result",
          "data": {
            "text/plain": [
              "[<matplotlib.lines.Line2D at 0x79b878e7a770>]"
            ]
          },
          "metadata": {},
          "execution_count": 65
        },
        {
          "output_type": "display_data",
          "data": {
            "text/plain": [
              "<Figure size 640x480 with 1 Axes>"
            ],
            "image/png": "[encoded data removed]"
          },
          "metadata": {}
        }
      ]
    },
    {
      "cell_type": "code",
      "source": [
        "l2=np.random.normal(10,15,10)\n",
        "print(l2)"
      ],
      "metadata": {
        "colab": {
          "base_uri": "https://localhost:8080/"
        },
        "id": "-He3MKoD-37G",
        "outputId": "989093f6-1b16-4f94-eef9-b3d7df8e2468"
      },
      "execution_count": null,
      "outputs": [
        {
          "output_type": "stream",
          "name": "stdout",
          "text": [
            "[ 6.99068777 28.56921636 37.39410655 -6.35254012  7.12366734 -5.36549827\n",
            " 19.60910755 17.98261719  7.42322864 14.52125315]\n"
          ]
        }
      ]
    },
    {
      "cell_type": "code",
      "source": [
        "plt.plot(l2)"
      ],
      "metadata": {
        "colab": {
          "base_uri": "https://localhost:8080/",
          "height": 447
        },
        "id": "X-u6cBZF_ABz",
        "outputId": "d4fdf772-e6fa-49f7-d895-fc631f9e8943"
      },
      "execution_count": null,
      "outputs": [
        {
          "output_type": "execute_result",
          "data": {
            "text/plain": [
              "[<matplotlib.lines.Line2D at 0x79b86da0f400>]"
            ]
          },
          "metadata": {},
          "execution_count": 71
        },
        {
          "output_type": "display_data",
          "data": {
            "text/plain": [
              "<Figure size 640x480 with 1 Axes>"
            ],
            "image/png": "[encoded data removed]"
          },
          "metadata": {}
        }
      ]
    },
    {
      "cell_type": "code",
      "source": [
        "import seaborn as sns"
      ],
      "metadata": {
        "id": "QzmqifRR_FU8"
      },
      "execution_count": null,
      "outputs": []
    },
    {
      "cell_type": "code",
      "source": [
        "sns.distplot(l2)"
      ],
      "metadata": {
        "colab": {
          "base_uri": "https://localhost:8080/",
          "height": 638
        },
        "id": "tKIQLEJT_KUf",
        "outputId": "95b8013e-78ad-4f85-e700-a6627103401d"
      },
      "execution_count": null,
      "outputs": [
        {
          "output_type": "stream",
          "name": "stderr",
          "text": [
            "<ipython-input-72-26712bca86a3>:1: UserWarning: \n",
            "\n",
            "`distplot` is a deprecated function and will be removed in seaborn v0.14.0.\n",
            "\n",
            "Please adapt your code to use either `displot` (a figure-level function with\n",
            "similar flexibility) or `histplot` (an axes-level function for histograms).\n",
            "\n",
            "For a guide to updating your code to use the new functions, please see\n",
            "https://gist.github.com/mwaskom/de44147ed2974457ad6372750bbe5751\n",
            "\n",
            "  sns.distplot(l2)\n"
          ]
        },
        {
          "output_type": "execute_result",
          "data": {
            "text/plain": [
              "<Axes: ylabel='Density'>"
            ]
          },
          "metadata": {},
          "execution_count": 72
        },
        {
          "output_type": "display_data",
          "data": {
            "text/plain": [
              "<Figure size 640x480 with 1 Axes>"
            ],
            "image/png": "[encoded data removed]"
          },
          "metadata": {}
        }
      ]
    },
    {
      "cell_type": "markdown",
      "source": [
        "# New Section"
      ],
      "metadata": {
        "id": "aVWiIALwA1hc"
      }
    }
  ]
}